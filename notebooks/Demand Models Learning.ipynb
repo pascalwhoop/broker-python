{
 "cells": [
  {
   "cell_type": "markdown",
   "metadata": {},
   "source": [
    "# Demand models"
   ]
  },
  {
   "cell_type": "markdown",
   "metadata": {},
   "source": [
    "This notebook is based on changing code in the codebase and may therefore not work as expected in later runs."
   ]
  },
  {
   "cell_type": "code",
   "execution_count": 22,
   "metadata": {},
   "outputs": [],
   "source": [
    "import agent_components.demand.learning.statefiles_event_adapter\n",
    "import agent_components.demand.learning as model_configurator\n",
    "\n",
    "import agent_components.demand.learning.lstm_v2 as lstm\n",
    "import agent_components.demand.event_listeners as el\n",
    "el.connect()\n",
    "\n",
    "import statefiles.state_extractor as se\n",
    "extractor = se.StateExtractor()"
   ]
  },
  {
   "cell_type": "code",
   "execution_count": 16,
   "metadata": {},
   "outputs": [],
   "source": [
    "#loads a state file and gets all its lines into memory. ready to parse\n",
    "files = files = extractor.get_state_files('../data/state_files')\n",
    "states = states = extractor.get_states_from_file(files[0])"
   ]
  },
  {
   "cell_type": "code",
   "execution_count": 17,
   "metadata": {},
   "outputs": [],
   "source": [
    "def restart():\n",
    "    extractor.flush_environment()\n",
    "    # parses all the states through the ususal infrastructure\n",
    "    extractor.parse_state_lines(tick_callback=statefiles_event_adapter.tick_callback)"
   ]
  },
  {
   "cell_type": "code",
   "execution_count": 24,
   "metadata": {},
   "outputs": [],
   "source": [
    "# defines the used model for the demand learner\n",
    "def use_model(model, tag):\n",
    "    model_configurator.set_learner(model, tag)"
   ]
  },
  {
   "cell_type": "code",
   "execution_count": 23,
   "metadata": {},
   "outputs": [
    {
     "data": {
      "text/plain": [
       "<agent_components.demand.learning.lstm_v2.learner.Learner at 0x7f1269295c88>"
      ]
     },
     "execution_count": 23,
     "metadata": {},
     "output_type": "execute_result"
    }
   ],
   "source": [
    "model_configurator.init_learner(\"lstm_v2\", \"testjupyter\")"
   ]
  },
  {
   "cell_type": "code",
   "execution_count": null,
   "metadata": {},
   "outputs": [],
   "source": []
  }
 ],
 "metadata": {
  "kernelspec": {
   "display_name": "Python 3",
   "language": "python",
   "name": "python3"
  },
  "language_info": {
   "codemirror_mode": {
    "name": "ipython",
    "version": 3
   },
   "file_extension": ".py",
   "mimetype": "text/x-python",
   "name": "python",
   "nbconvert_exporter": "python",
   "pygments_lexer": "ipython3",
   "version": "3.6.3"
  }
 },
 "nbformat": 4,
 "nbformat_minor": 2
}
