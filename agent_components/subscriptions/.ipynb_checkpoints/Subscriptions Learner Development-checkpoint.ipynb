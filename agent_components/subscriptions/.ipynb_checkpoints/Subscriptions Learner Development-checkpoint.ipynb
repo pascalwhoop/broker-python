{
 "cells": [
  {
   "cell_type": "markdown",
   "metadata": {},
   "source": [
    "# Subscription learner\n",
    "\n",
    "I want to learn to prognose subscriptions to tariffs that are published from historical data of previous games. How do customers behave when a new subscription is published? It's important to know how customers are likely to react to different tariffs to evaluate the value of a potential new tariff."
   ]
  }
 ],
 "metadata": {
  "kernelspec": {
   "display_name": "Python 2",
   "language": "python",
   "name": "python2"
  },
  "language_info": {
   "codemirror_mode": {
    "name": "ipython",
    "version": 2
   },
   "file_extension": ".py",
   "mimetype": "text/x-python",
   "name": "python",
   "nbconvert_exporter": "python",
   "pygments_lexer": "ipython2",
   "version": "2.7.12"
  }
 },
 "nbformat": 4,
 "nbformat_minor": 2
}
